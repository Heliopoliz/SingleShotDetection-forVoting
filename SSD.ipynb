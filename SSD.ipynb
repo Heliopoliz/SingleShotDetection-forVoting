{
 "cells": [
  {
   "cell_type": "code",
   "execution_count": 2,
   "metadata": {},
   "outputs": [],
   "source": [
    "import d2lzh as d2l\n",
    "from mxnet import gluon, image, init, nd, contrib, autograd\n",
    "from mxnet.gluon import loss as gloss, nn\n",
    "import time\n",
    "import os"
   ]
  },
  {
   "cell_type": "code",
   "execution_count": null,
   "metadata": {},
   "outputs": [],
   "source": [
    "def cls_predict(numAnchor, numClass):\n",
    "    return nn.Conv2D(numAnchor * (numClass + 1)), kernel_size = 3, padding = 1)"
   ]
  },
  {
   "cell_type": "code",
   "execution_count": null,
   "metadata": {},
   "outputs": [],
   "source": [
    "def bbox_predict(numAnchor):\n",
    "    return nn.Conv2D(numAnchor * 4, kernel_size = 3, padding = 1)"
   ]
  },
  {
   "cell_type": "code",
   "execution_count": null,
   "metadata": {},
   "outputs": [],
   "source": [
    "def forward(vec, level):\n",
    "    level.initialize()\n",
    "    return level(vec)"
   ]
  },
  {
   "cell_type": "code",
   "execution_count": null,
   "metadata": {},
   "outputs": [],
   "source": [
    "def flat(prediction):\n",
    "    return prediction.transpose((0, 2, 3, 1)).flatten()"
   ]
  },
  {
   "cell_type": "code",
   "execution_count": null,
   "metadata": {},
   "outputs": [],
   "source": [
    "def concat(predictions):\n",
    "    return nd.concat(*[flat(p) for p in predictions], dim = 1)"
   ]
  },
  {
   "cell_type": "code",
   "execution_count": null,
   "metadata": {},
   "outputs": [],
   "source": [
    "def half_size_block(numChannels):\n",
    "    lev = nn.Sequential()\n",
    "    for _ in range(2):\n",
    "       lev.add(nn.Conv2D(numChannels, kernel_size = 3, padding = 1),\n",
    "              nn.BatchNorm(in_channels = numChannels),\n",
    "              nn.Activation('relu'))\n",
    "    lev.add(nn.maxPool2D(2))\n",
    "    return lev"
   ]
  },
  {
   "cell_type": "code",
   "execution_count": null,
   "metadata": {},
   "outputs": [],
   "source": [
    "def base_net():\n",
    "    lev = nn.Sequential()\n",
    "    for i in [16, 32, 64]:\n",
    "        lev.add(half_size_block(i))\n",
    "    return lev"
   ]
  },
  {
   "cell_type": "code",
   "execution_count": null,
   "metadata": {},
   "outputs": [],
   "source": [
    "def create_level(i):\n",
    "    if i == 0:\n",
    "        lev = base_net()\n",
    "    elif i == 4:\n",
    "        lev = nn.GlobalMaxPool2D()\n",
    "    else:\n",
    "        lev = half_size_level(128)\n",
    "    return lev"
   ]
  },
  {
   "cell_type": "code",
   "execution_count": null,
   "metadata": {},
   "outputs": [],
   "source": [
    "def level_forward(X, lev, size, ratio, cls_predictor, bbox_predictor):\n",
    "    Y = lev(X)\n",
    "    anchors = contrib.ndarray.MultiBoxPrior(Y, sizes=size, ratios=ratio)\n",
    "    cls_predictions = cls_predictor(Y)\n",
    "    bbox_predictions = bbox_predictor(Y)\n",
    "    return (Y, anchors, cls_predictions, bbox_predictons)"
   ]
  },
  {
   "cell_type": "code",
   "execution_count": null,
   "metadata": {},
   "outputs": [],
   "source": [
    "sizes = [[0.2, 0.272], [0.37, 0.447], [0.54, 0.619], [0.71, 0.79],\n",
    "         [0.88, 0.961]]\n",
    "ratios = [[1, 2, 0.5]] * 5\n",
    "numAnchors = len(sizes[0]) + len(ratios[0]) - 1"
   ]
  },
  {
   "cell_type": "code",
   "execution_count": null,
   "metadata": {},
   "outputs": [],
   "source": [
    "class SSD(nn.Block):\n",
    "    def __init__(self, numClasses, **kwargs):\n",
    "        super(SSD, self).__init__(**kwargs)\n",
    "        self.numClasses = numClasses\n",
    "        for i in range(5):\n",
    "            setattr(self, 'lev_%d' % i, create_level(i))\n",
    "            setattr(self, 'cls_%d' % i, cls_predict(numAnchors, numClasses))\n",
    "            setattr(self, 'bbox_%d' % i, bbox_predict(numAnchors))\n",
    "    \n",
    "    def forward(self, X):\n",
    "        anchors, cls_predictions, bbox_predictions = [None] * 5, [None] * 5, [None] * 5\n",
    "        for i in range(5):\n",
    "            X, anchors[i], cls_predictions[i], bbox_predictions[i] = level_forward(\n",
    "            X, getattr(self, 'lev_%d' % i), sizes[i], ratios[i],\n",
    "            getattr(self, 'cls_%d' % i), getattr(self, 'bbox_%d' % i))\n",
    "        \n",
    "        return (nd.concat(*anchors, dim = 1), concat(cls_predctions).reshape((0, -1, self.numClasses + 1)), concat(bbox_predictions))"
   ]
  },
  {
   "cell_type": "code",
   "execution_count": null,
   "metadata": {},
   "outputs": [],
   "source": [
    "net = SSD(numClasses = 1)\n",
    "net.initialize()\n",
    "batch_size = 32\n",
    "\n",
    "ctx = d2l.try_gpu()\n",
    "net = SSD(numClasses = 1)\n",
    "\n",
    "trainer = gluon.Trainer(net.collect_params(), 'sgd', {'learning_rate' : 0.2, 'wd' : 5e-4})\n",
    "\n",
    "cls_loss = gloss.SoftmaxCrossEntropyLoss()\n",
    "bbox_loss = gloss.L1Loss()\n",
    "\n",
    "def compute_loss(cls_predictions, cls_labels, bbox_predictions, bbox_labels, bbox_masks):\n",
    "    cls_l = cls_loss(cls_predictions, cls_labels)\n",
    "    bbox_l = bbox_loss(bbox_predictions * bbox_masks, bbox_labels * bbox_masks)\n",
    "    return cls_l + bbox_l"
   ]
  },
  {
   "cell_type": "code",
   "execution_count": null,
   "metadata": {},
   "outputs": [],
   "source": [
    "def cls_eval(cls_predictions, cls_labels):\n",
    "    # 由于类别预测结果放在最后一维，argmax需要指定最后一维\n",
    "    return (cls_predictions.argmax(axis=-1) == cls_labels).sum().asscalar()\n",
    "\n",
    "def bbox_eval(bbox_predictions, bbox_labels, bbox_masks):\n",
    "    return ((bbox_labels - bbox_predictions) * bbox_masks).abs().sum().asscalar()"
   ]
  }
 ],
 "metadata": {
  "kernelspec": {
   "display_name": "Python 3",
   "language": "python",
   "name": "python3"
  },
  "language_info": {
   "codemirror_mode": {
    "name": "ipython",
    "version": 3
   },
   "file_extension": ".py",
   "mimetype": "text/x-python",
   "name": "python",
   "nbconvert_exporter": "python",
   "pygments_lexer": "ipython3",
   "version": "3.7.1"
  }
 },
 "nbformat": 4,
 "nbformat_minor": 2
}
